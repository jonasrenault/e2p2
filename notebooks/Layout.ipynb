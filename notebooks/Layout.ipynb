{
 "cells": [
  {
   "cell_type": "markdown",
   "id": "0bff82c8-23ed-48c6-ba6f-3077f18cdc85",
   "metadata": {},
   "source": [
    "# How to extract layout information from a PDF file"
   ]
  },
  {
   "cell_type": "markdown",
   "id": "a393d6dd-edd3-450b-91c7-408648cde68c",
   "metadata": {},
   "source": [
    "### 1. Rasterize pdf\n",
    "\n",
    "The `rasterize_pdf` function will open a pdf file and return a list of `Image`s which can then be processed by a layout extraction model."
   ]
  },
  {
   "cell_type": "code",
   "execution_count": null,
   "id": "57cd0fc2-6413-4cf2-b054-f41904dd6a5e",
   "metadata": {},
   "outputs": [],
   "source": [
    "from e2p2.pdf.rasterize import rasterize_pdf\n",
    "\n",
    "pils = rasterize_pdf(\"../resources/data/test-doc.pdf\")"
   ]
  },
  {
   "cell_type": "code",
   "execution_count": null,
   "id": "6a02a838-780d-4260-aac1-b011f5eee122",
   "metadata": {},
   "outputs": [],
   "source": [
    "display(pils[0])"
   ]
  },
  {
   "cell_type": "code",
   "execution_count": null,
   "id": "ad35878a-d9bd-44fd-a760-43183c22d355",
   "metadata": {},
   "outputs": [],
   "source": []
  }
 ],
 "metadata": {
  "kernelspec": {
   "display_name": "Python 3 (ipykernel)",
   "language": "python",
   "name": "python3"
  },
  "language_info": {
   "codemirror_mode": {
    "name": "ipython",
    "version": 3
   },
   "file_extension": ".py",
   "mimetype": "text/x-python",
   "name": "python",
   "nbconvert_exporter": "python",
   "pygments_lexer": "ipython3",
   "version": "3.12.6"
  }
 },
 "nbformat": 4,
 "nbformat_minor": 5
}
